{
 "cells": [
  {
   "cell_type": "markdown",
   "id": "390a46d7-a06e-4151-84c0-a7415cb5a0a1",
   "metadata": {},
   "source": [
    "# Social Dynamics and Evolutionary Game Theory\n",
    "\n",
    "Tutorial at **ECAI 2023, Krákow (Poland)**\n",
    "\n",
    "This tutorial is divided in the following parts: \n",
    "\n",
    "1. [Part 1: Introduction to Evolutionary Game Theory](#Part-1:-Introduction-to-Evolutionary-Game-Theory)\n",
    "    1. [Populations with 2 strategies](#Populations-with-2-strategies)\n",
    "    2. [Populations with 3 or more strategies](#Populations-with-3-or-more-strategies)\n",
    "    3. [Social Dynamics and Mechanisms for the Evolution of Cooperation](#Social-Dynamics-and-Mechanisms-for-the-Evolution-of-Cooperation)\n",
    "2. [Part 2: Interactions in structured populations and Applications](#Part-2:-Interactions-in-structured-populations-and-Applications)"
   ]
  },
  {
   "cell_type": "markdown",
   "id": "ec84f144-4423-402a-bb0a-0e0a8d6d1745",
   "metadata": {},
   "source": [
    "## Pre-requisites\n",
    "\n",
    "To run this python notebook, you need Python >= 3.8, and you need to install ``egttools`` and all its dependencies. The easiest way to do this is to run pip install egttools in a virtual environment. \n",
    "\n",
    "On MacOS you should use an ``Anaconda`` environment and install ``numpy``, ``scipy``, ``matplotlib`` and ``seaborn`` through ``conda install <package>`` before installing ``egttools``. "
   ]
  },
  {
   "cell_type": "markdown",
   "id": "e9a54ba3-196c-4986-a41b-3c9aabbcb153",
   "metadata": {},
   "source": [
    "## Part 1: Introduction to Evolutionary Game Theory"
   ]
  },
  {
   "cell_type": "markdown",
   "id": "beb7c315-6aaf-44a4-9cec-9de71bc41854",
   "metadata": {},
   "source": [
    "### Populations with 2 strategies\n",
    "\n",
    "To to study populations of 2 strategies we will use a Hawk-Dove game as an example:\n",
    "\n",
    "The hawk-Dove game is a coordination game formulated by John Maynard Smith and Georg Price. The aim of the game was to understand the resolution of conflicts by fighting in the animal kingdom.  The game consists of two players, which each have the choice between two possible actions; either they take time to display (dove) before fighting or they can escalate immediately and fight (hawk).  When both players escalate (hawk), they have a 50% risk of being injured (-D/2) and 50% of wining (V/2).  When a dove fights another dove she also wins 50% of the time (V/2) but only after a period of mutual displays to show of strength (-T).  Hawks always win against doves, resulting in a benefit for one (V) and not for the other (0).\n",
    "\n",
    "![hawk-dove game](./images/hawk-dove.jpeg)\n",
    "\n",
    "In the following notebook you can analyse the evolutionary dynamics of infinite and finite populations of this game: [Hawk and Dove Dynamics](./hawk_dove_dynamics.ipynb)"
   ]
  },
  {
   "cell_type": "markdown",
   "id": "4a904c45-49cf-43c6-a963-daf5b35d396c",
   "metadata": {},
   "source": [
    "### Populations with 3 or more strategies\n",
    "\n",
    "Let's take a look at this very nice online resource: [Evolution of Trust](https://ncase.me/trust/)\n",
    "\n",
    "And you can analyse the evolutionary dynamics of this game in the following notebook: [Evolution of Trust Notebook](./evolution_of_trust.ipynb)"
   ]
  },
  {
   "cell_type": "markdown",
   "id": "656197d9-27ea-4ee6-9d58-50e601de1d6d",
   "metadata": {},
   "source": [
    "### Social Dynamics and Mechanisms for the Evolution of Cooperation"
   ]
  },
  {
   "cell_type": "markdown",
   "id": "5b6df909-f060-42ba-93fe-a1c1d49f7e2a",
   "metadata": {},
   "source": [
    "## Part 2: Interactions in structured populations and Applications"
   ]
  },
  {
   "cell_type": "markdown",
   "id": "7a933559-f627-4374-b66a-43b259a563be",
   "metadata": {},
   "source": [
    "You can analyse the evolutionary dynamics in structured populations of the previous game in the following notebook:\n",
    "[Evolution of Trust Notebook](./evolution_of_trust.ipynb) and go to Section \"Part-4:-Interactions-in-a-scale-free-network\""
   ]
  }
 ],
 "metadata": {
  "kernelspec": {
   "display_name": "python3 (egtenv)",
   "language": "python",
   "name": "conda-env-egtenv-py"
  },
  "language_info": {
   "codemirror_mode": {
    "name": "ipython",
    "version": 3
   },
   "file_extension": ".py",
   "mimetype": "text/x-python",
   "name": "python",
   "nbconvert_exporter": "python",
   "pygments_lexer": "ipython3",
   "version": "3.10.10"
  }
 },
 "nbformat": 4,
 "nbformat_minor": 5
}
